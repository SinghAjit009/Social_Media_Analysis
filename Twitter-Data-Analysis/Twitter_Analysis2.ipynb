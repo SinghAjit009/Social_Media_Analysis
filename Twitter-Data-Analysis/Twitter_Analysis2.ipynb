{
  "nbformat": 4,
  "nbformat_minor": 0,
  "metadata": {
    "colab": {
      "name": "Ajit_singh_2018009_2.ipynb",
      "provenance": []
    },
    "kernelspec": {
      "name": "python3",
      "display_name": "Python 3"
    },
    "language_info": {
      "name": "python"
    }
  },
  "cells": [
    {
      "cell_type": "code",
      "metadata": {
        "id": "uRq-PieCOdnr"
      },
      "source": [
        "import tweepy\n",
        "import re\n",
        "import pickle\n",
        "import pandas as pd\n",
        "import statistics\n",
        "import plotly\n",
        "import plotly.graph_objects as go\n",
        "import operator\n",
        "import matplotlib.pyplot as plt"
      ],
      "execution_count": 2,
      "outputs": []
    },
    {
      "cell_type": "code",
      "metadata": {
        "id": "jqov2YhcOiE8"
      },
      "source": [
        "consumer_key = 'cyXcjxUc1ZlLD2v1DjaJrLiVI' \n",
        "consumer_secret = 'pD3mk041ROBiSSwt2C3kytR9eF1zYrX1vBD8whpDln5Zq4y1jX' \n",
        "access_key = '1279253779540410373-8ODCqefNcIvSFXSrwKH7DPhtQTda3i' \n",
        "access_secret = 'nVGU8WyEdGCQ2gU1qQ57NXxLpYQts4Emt1UPM6GVlYaav'\n",
        "auth = tweepy.OAuthHandler(consumer_key, consumer_secret)\n",
        "auth.set_access_token(access_key, access_secret)\n",
        "api = tweepy.API(auth,wait_on_rate_limit=True)"
      ],
      "execution_count": 3,
      "outputs": []
    },
    {
      "cell_type": "code",
      "metadata": {
        "id": "DrQn9rXtOolY"
      },
      "source": [
        "tweets = tweepy.Cursor(api.search, q=\"#ipl\",tweet_mode='extended').items(5000)\n",
        "data=[]\n",
        "for tweet in tweets:\n",
        "  data.append(tweet)"
      ],
      "execution_count": null,
      "outputs": []
    },
    {
      "cell_type": "code",
      "metadata": {
        "id": "we84oUCGO-cw"
      },
      "source": [
        "infile = open(\"/content/drive/MyDrive/psosm/sec2\",'rb')\n",
        "sec2_data = pickle.load(infile)\n",
        "infile.close() "
      ],
      "execution_count": 8,
      "outputs": []
    },
    {
      "cell_type": "code",
      "metadata": {
        "id": "uLZO6SgYO7wA"
      },
      "source": [
        "filename = 'sec2'\n",
        "outfile = open(filename,'wb')\n",
        "pickle.dump(sec2_data,outfile)\n",
        "outfile.close()"
      ],
      "execution_count": null,
      "outputs": []
    },
    {
      "cell_type": "code",
      "metadata": {
        "id": "FP_BtYvcOpzf"
      },
      "source": [
        "def get_top(data):\n",
        "  h_dict={}\n",
        "  for tweet in data:\n",
        "    l=tweet.entities['hashtags']\n",
        "    for i in range(len(l)):\n",
        "      if l[i]['text'] in h_dict.keys():\n",
        "        h_dict[l[i]['text']]=h_dict[l[i]['text']]+1\n",
        "      else:\n",
        "        h_dict[l[i]['text']]=1\n",
        "  s=dict( sorted(h_dict.items(), key=operator.itemgetter(1),reverse=True))\n",
        "  return s"
      ],
      "execution_count": 5,
      "outputs": []
    },
    {
      "cell_type": "code",
      "metadata": {
        "id": "pqc92ZWjOv0J"
      },
      "source": [
        "def get_top_likes(data):\n",
        "  h_dict={}\n",
        "  for tweet in data:\n",
        "    l=tweet.entities['hashtags']\n",
        "    for i in range(len(l)):\n",
        "      if l[i]['text'] in h_dict.keys():\n",
        "        h_dict[l[i]['text']]=h_dict[l[i]['text']]+tweet.favorite_count\n",
        "      else:\n",
        "        h_dict[l[i]['text']]=tweet.favorite_count\n",
        "  s=dict( sorted(h_dict.items(), key=operator.itemgetter(1),reverse=True))\n",
        "  return s"
      ],
      "execution_count": 6,
      "outputs": []
    },
    {
      "cell_type": "code",
      "metadata": {
        "id": "CX-GBG44OyYn"
      },
      "source": [
        "def get_top_retweets(data):\n",
        "  h_dict={}\n",
        "  for tweet in data:\n",
        "    l=tweet.entities['hashtags']\n",
        "    for i in range(len(l)):\n",
        "      if l[i]['text'] in h_dict.keys():\n",
        "        h_dict[l[i]['text']]=h_dict[l[i]['text']]+tweet.retweet_count\n",
        "      else:\n",
        "        h_dict[l[i]['text']]=tweet.retweet_count\n",
        "  s=dict( sorted(h_dict.items(), key=operator.itemgetter(1),reverse=True))\n",
        "  return s"
      ],
      "execution_count": 7,
      "outputs": []
    },
    {
      "cell_type": "code",
      "metadata": {
        "id": "m7Xov5atO1Kg"
      },
      "source": [
        "def get_ctm(data,ht):\n",
        "  user_dict={}\n",
        "  re_tw=0\n",
        "  total=0\n",
        "  for tweet in data:\n",
        "    l=tweet.entities['hashtags']\n",
        "    for i in range(len(l)):\n",
        "      if l[i]['text']==ht:\n",
        "        if tweet.user.screen_name in user_dict.keys():\n",
        "          user_dict[tweet.user.screen_name]=user_dict[tweet.user.screen_name]+1\n",
        "        else:\n",
        "          user_dict[tweet.user.screen_name]=1\n",
        "        isRT = hasattr(tweet, 'retweeted_status')\n",
        "        if isRT==True:\n",
        "          re_tw=re_tw+1\n",
        "        total=total+1\n",
        "        break\n",
        "  s=dict( sorted(user_dict.items(), key=operator.itemgetter(1),reverse=True))\n",
        "  return [ht,(re_tw/total)*100,(sum(list(s.values())[:50])/total)*100,total/len(s)]"
      ],
      "execution_count": 10,
      "outputs": []
    },
    {
      "cell_type": "code",
      "metadata": {
        "id": "hPJ46z8pO4DB"
      },
      "source": [
        "top_10=list(get_top(data).keys())[1:11]\n",
        "sec2_data=[]\n",
        "for ht in top_10:\n",
        "  tweets = tweepy.Cursor(api.search, q=ht,tweet_mode='extended').items(1000)\n",
        "  l=[]\n",
        "  for tweet in tweets:\n",
        "    l.append(tweet)\n",
        "  sec2_data.extend(l)"
      ],
      "execution_count": null,
      "outputs": []
    },
    {
      "cell_type": "code",
      "metadata": {
        "colab": {
          "base_uri": "https://localhost:8080/",
          "height": 678
        },
        "id": "GcST0-hl1qft",
        "outputId": "3b920531-5357-48aa-959d-24aff86fcddd"
      },
      "source": [
        "s=get_top(sec2_data)\n",
        "fig = plt.figure(figsize=(11, 4))\n",
        "ax = fig.add_axes([0,0,1,1])\n",
        "top_10=list(s.keys())[0:10]\n",
        "ax.bar(list(s.keys())[0:10],list(s.values())[0:10] )\n",
        "plt.show()\n",
        "df_list=[]\n",
        "for ht in top_10:\n",
        "  df_list.append(get_ctm(sec2_data,ht))\n",
        "df = pd.DataFrame(df_list, columns = ['Hashttag', 'R','F','U'])\n",
        "df['CTM']=df['R']/10+df['F']+df['U']\n",
        "df"
      ],
      "execution_count": 11,
      "outputs": [
        {
          "output_type": "display_data",
          "data": {
            "image/png": "[encoded data removed]",
            "text/plain": [
              "<Figure size 792x288 with 1 Axes>"
            ]
          },
          "metadata": {
            "tags": [],
            "needs_background": "light"
          }
        },
        {
          "output_type": "execute_result",
          "data": {
            "text/html": [
              "<div>\n",
              "<style scoped>\n",
              "    .dataframe tbody tr th:only-of-type {\n",
              "        vertical-align: middle;\n",
              "    }\n",
              "\n",
              "    .dataframe tbody tr th {\n",
              "        vertical-align: top;\n",
              "    }\n",
              "\n",
              "    .dataframe thead th {\n",
              "        text-align: right;\n",
              "    }\n",
              "</style>\n",
              "<table border=\"1\" class=\"dataframe\">\n",
              "  <thead>\n",
              "    <tr style=\"text-align: right;\">\n",
              "      <th></th>\n",
              "      <th>Hashttag</th>\n",
              "      <th>R</th>\n",
              "      <th>F</th>\n",
              "      <th>U</th>\n",
              "      <th>CTM</th>\n",
              "    </tr>\n",
              "  </thead>\n",
              "  <tbody>\n",
              "    <tr>\n",
              "      <th>0</th>\n",
              "      <td>IPL2021</td>\n",
              "      <td>40.897353</td>\n",
              "      <td>21.755972</td>\n",
              "      <td>2.249818</td>\n",
              "      <td>28.095525</td>\n",
              "    </tr>\n",
              "    <tr>\n",
              "      <th>1</th>\n",
              "      <td>PBKSvMI</td>\n",
              "      <td>35.990712</td>\n",
              "      <td>34.365325</td>\n",
              "      <td>2.153333</td>\n",
              "      <td>40.117730</td>\n",
              "    </tr>\n",
              "    <tr>\n",
              "      <th>2</th>\n",
              "      <td>FanOfTheMatch</td>\n",
              "      <td>2.321981</td>\n",
              "      <td>42.337461</td>\n",
              "      <td>3.800000</td>\n",
              "      <td>46.369659</td>\n",
              "    </tr>\n",
              "    <tr>\n",
              "      <th>3</th>\n",
              "      <td>MIvsPBKS</td>\n",
              "      <td>15.553603</td>\n",
              "      <td>45.342707</td>\n",
              "      <td>2.888325</td>\n",
              "      <td>49.786392</td>\n",
              "    </tr>\n",
              "    <tr>\n",
              "      <th>4</th>\n",
              "      <td>PBKSvsMI</td>\n",
              "      <td>32.507740</td>\n",
              "      <td>36.945304</td>\n",
              "      <td>1.697023</td>\n",
              "      <td>41.893101</td>\n",
              "    </tr>\n",
              "    <tr>\n",
              "      <th>5</th>\n",
              "      <td>RCBvsRR</td>\n",
              "      <td>92.484076</td>\n",
              "      <td>19.490446</td>\n",
              "      <td>1.256000</td>\n",
              "      <td>29.994854</td>\n",
              "    </tr>\n",
              "    <tr>\n",
              "      <th>6</th>\n",
              "      <td>PBKS</td>\n",
              "      <td>37.290503</td>\n",
              "      <td>40.363128</td>\n",
              "      <td>1.956284</td>\n",
              "      <td>46.048463</td>\n",
              "    </tr>\n",
              "    <tr>\n",
              "      <th>7</th>\n",
              "      <td>MI</td>\n",
              "      <td>55.947137</td>\n",
              "      <td>39.794420</td>\n",
              "      <td>1.830645</td>\n",
              "      <td>47.219779</td>\n",
              "    </tr>\n",
              "    <tr>\n",
              "      <th>8</th>\n",
              "      <td>RCB</td>\n",
              "      <td>85.779817</td>\n",
              "      <td>29.357798</td>\n",
              "      <td>1.406452</td>\n",
              "      <td>39.342231</td>\n",
              "    </tr>\n",
              "    <tr>\n",
              "      <th>9</th>\n",
              "      <td>IPL</td>\n",
              "      <td>62.807018</td>\n",
              "      <td>34.210526</td>\n",
              "      <td>1.496063</td>\n",
              "      <td>41.987291</td>\n",
              "    </tr>\n",
              "  </tbody>\n",
              "</table>\n",
              "</div>"
            ],
            "text/plain": [
              "        Hashttag          R          F         U        CTM\n",
              "0        IPL2021  40.897353  21.755972  2.249818  28.095525\n",
              "1        PBKSvMI  35.990712  34.365325  2.153333  40.117730\n",
              "2  FanOfTheMatch   2.321981  42.337461  3.800000  46.369659\n",
              "3       MIvsPBKS  15.553603  45.342707  2.888325  49.786392\n",
              "4       PBKSvsMI  32.507740  36.945304  1.697023  41.893101\n",
              "5        RCBvsRR  92.484076  19.490446  1.256000  29.994854\n",
              "6           PBKS  37.290503  40.363128  1.956284  46.048463\n",
              "7             MI  55.947137  39.794420  1.830645  47.219779\n",
              "8            RCB  85.779817  29.357798  1.406452  39.342231\n",
              "9            IPL  62.807018  34.210526  1.496063  41.987291"
            ]
          },
          "metadata": {
            "tags": []
          },
          "execution_count": 11
        }
      ]
    },
    {
      "cell_type": "code",
      "metadata": {
        "colab": {
          "base_uri": "https://localhost:8080/",
          "height": 678
        },
        "id": "IvaNAeYZP9gK",
        "outputId": "99e759bc-458a-4d32-f583-df391f9bd2f6"
      },
      "source": [
        "s=get_top_likes(sec2_data)\n",
        "fig = plt.figure(figsize=(11, 4))\n",
        "ax = fig.add_axes([0,0,1,1])\n",
        "top_10=list(s.keys())[0:10]\n",
        "ax.bar(list(s.keys())[0:10],list(s.values())[0:10] )\n",
        "plt.show()\n",
        "df_list=[]\n",
        "for ht in top_10:\n",
        "  df_list.append(get_ctm(sec2_data,ht))\n",
        "df = pd.DataFrame(df_list, columns = ['HashTag', 'R','F','U'])\n",
        "df['CTM']=df['R']/10+df['F']+df['U']\n",
        "df"
      ],
      "execution_count": 12,
      "outputs": [
        {
          "output_type": "display_data",
          "data": {
            "image/png": "[encoded data removed]",
            "text/plain": [
              "<Figure size 792x288 with 1 Axes>"
            ]
          },
          "metadata": {
            "tags": [],
            "needs_background": "light"
          }
        },
        {
          "output_type": "execute_result",
          "data": {
            "text/html": [
              "<div>\n",
              "<style scoped>\n",
              "    .dataframe tbody tr th:only-of-type {\n",
              "        vertical-align: middle;\n",
              "    }\n",
              "\n",
              "    .dataframe tbody tr th {\n",
              "        vertical-align: top;\n",
              "    }\n",
              "\n",
              "    .dataframe thead th {\n",
              "        text-align: right;\n",
              "    }\n",
              "</style>\n",
              "<table border=\"1\" class=\"dataframe\">\n",
              "  <thead>\n",
              "    <tr style=\"text-align: right;\">\n",
              "      <th></th>\n",
              "      <th>HashTag</th>\n",
              "      <th>R</th>\n",
              "      <th>F</th>\n",
              "      <th>U</th>\n",
              "      <th>CTM</th>\n",
              "    </tr>\n",
              "  </thead>\n",
              "  <tbody>\n",
              "    <tr>\n",
              "      <th>0</th>\n",
              "      <td>IPL2021</td>\n",
              "      <td>40.897353</td>\n",
              "      <td>21.755972</td>\n",
              "      <td>2.249818</td>\n",
              "      <td>28.095525</td>\n",
              "    </tr>\n",
              "    <tr>\n",
              "      <th>1</th>\n",
              "      <td>PBKSvMI</td>\n",
              "      <td>35.990712</td>\n",
              "      <td>34.365325</td>\n",
              "      <td>2.153333</td>\n",
              "      <td>40.117730</td>\n",
              "    </tr>\n",
              "    <tr>\n",
              "      <th>2</th>\n",
              "      <td>MI</td>\n",
              "      <td>55.947137</td>\n",
              "      <td>39.794420</td>\n",
              "      <td>1.830645</td>\n",
              "      <td>47.219779</td>\n",
              "    </tr>\n",
              "    <tr>\n",
              "      <th>3</th>\n",
              "      <td>MumbaiIndians</td>\n",
              "      <td>63.475177</td>\n",
              "      <td>64.539007</td>\n",
              "      <td>1.880000</td>\n",
              "      <td>72.766525</td>\n",
              "    </tr>\n",
              "    <tr>\n",
              "      <th>4</th>\n",
              "      <td>OneFamily</td>\n",
              "      <td>69.257951</td>\n",
              "      <td>70.671378</td>\n",
              "      <td>2.176923</td>\n",
              "      <td>79.774096</td>\n",
              "    </tr>\n",
              "    <tr>\n",
              "      <th>5</th>\n",
              "      <td>PBKSvsMI</td>\n",
              "      <td>32.507740</td>\n",
              "      <td>36.945304</td>\n",
              "      <td>1.697023</td>\n",
              "      <td>41.893101</td>\n",
              "    </tr>\n",
              "    <tr>\n",
              "      <th>6</th>\n",
              "      <td>PBKS</td>\n",
              "      <td>37.290503</td>\n",
              "      <td>40.363128</td>\n",
              "      <td>1.956284</td>\n",
              "      <td>46.048463</td>\n",
              "    </tr>\n",
              "    <tr>\n",
              "      <th>7</th>\n",
              "      <td>PunjabKings</td>\n",
              "      <td>57.819905</td>\n",
              "      <td>87.203791</td>\n",
              "      <td>2.740260</td>\n",
              "      <td>95.726042</td>\n",
              "    </tr>\n",
              "    <tr>\n",
              "      <th>8</th>\n",
              "      <td>SaddaPunjab</td>\n",
              "      <td>64.772727</td>\n",
              "      <td>89.772727</td>\n",
              "      <td>3.428571</td>\n",
              "      <td>99.678571</td>\n",
              "    </tr>\n",
              "    <tr>\n",
              "      <th>9</th>\n",
              "      <td>VIVOIPL</td>\n",
              "      <td>53.465347</td>\n",
              "      <td>87.128713</td>\n",
              "      <td>1.603175</td>\n",
              "      <td>94.078422</td>\n",
              "    </tr>\n",
              "  </tbody>\n",
              "</table>\n",
              "</div>"
            ],
            "text/plain": [
              "         HashTag          R          F         U        CTM\n",
              "0        IPL2021  40.897353  21.755972  2.249818  28.095525\n",
              "1        PBKSvMI  35.990712  34.365325  2.153333  40.117730\n",
              "2             MI  55.947137  39.794420  1.830645  47.219779\n",
              "3  MumbaiIndians  63.475177  64.539007  1.880000  72.766525\n",
              "4      OneFamily  69.257951  70.671378  2.176923  79.774096\n",
              "5       PBKSvsMI  32.507740  36.945304  1.697023  41.893101\n",
              "6           PBKS  37.290503  40.363128  1.956284  46.048463\n",
              "7    PunjabKings  57.819905  87.203791  2.740260  95.726042\n",
              "8    SaddaPunjab  64.772727  89.772727  3.428571  99.678571\n",
              "9        VIVOIPL  53.465347  87.128713  1.603175  94.078422"
            ]
          },
          "metadata": {
            "tags": []
          },
          "execution_count": 12
        }
      ]
    },
    {
      "cell_type": "code",
      "metadata": {
        "colab": {
          "base_uri": "https://localhost:8080/",
          "height": 678
        },
        "id": "h7CmON9bTZeP",
        "outputId": "74d4871b-50b9-4939-b19f-a3cc7a7d84ac"
      },
      "source": [
        "s=get_top_retweets(sec2_data)\n",
        "fig = plt.figure(figsize=(11, 4))\n",
        "ax = fig.add_axes([0,0,1,1])\n",
        "top_10=list(s.keys())[0:10]\n",
        "ax.bar(list(s.keys())[0:10],list(s.values())[0:10] )\n",
        "plt.show()\n",
        "df_list=[]\n",
        "for ht in top_10:\n",
        "  df_list.append(get_ctm(sec2_data,ht))\n",
        "df = pd.DataFrame(df_list, columns = ['HashTag', 'R','F','U'])\n",
        "df['CTM']=df['R']/10+df['F']+df['U']\n",
        "df"
      ],
      "execution_count": 13,
      "outputs": [
        {
          "output_type": "display_data",
          "data": {
            "image/png": "[encoded data removed]",
            "text/plain": [
              "<Figure size 792x288 with 1 Axes>"
            ]
          },
          "metadata": {
            "tags": [],
            "needs_background": "light"
          }
        },
        {
          "output_type": "execute_result",
          "data": {
            "text/html": [
              "<div>\n",
              "<style scoped>\n",
              "    .dataframe tbody tr th:only-of-type {\n",
              "        vertical-align: middle;\n",
              "    }\n",
              "\n",
              "    .dataframe tbody tr th {\n",
              "        vertical-align: top;\n",
              "    }\n",
              "\n",
              "    .dataframe thead th {\n",
              "        text-align: right;\n",
              "    }\n",
              "</style>\n",
              "<table border=\"1\" class=\"dataframe\">\n",
              "  <thead>\n",
              "    <tr style=\"text-align: right;\">\n",
              "      <th></th>\n",
              "      <th>HashTag</th>\n",
              "      <th>R</th>\n",
              "      <th>F</th>\n",
              "      <th>U</th>\n",
              "      <th>CTM</th>\n",
              "    </tr>\n",
              "  </thead>\n",
              "  <tbody>\n",
              "    <tr>\n",
              "      <th>0</th>\n",
              "      <td>RCBvsRR</td>\n",
              "      <td>92.484076</td>\n",
              "      <td>19.490446</td>\n",
              "      <td>1.256000</td>\n",
              "      <td>29.994854</td>\n",
              "    </tr>\n",
              "    <tr>\n",
              "      <th>1</th>\n",
              "      <td>IPL2021</td>\n",
              "      <td>40.897353</td>\n",
              "      <td>21.755972</td>\n",
              "      <td>2.249818</td>\n",
              "      <td>28.095525</td>\n",
              "    </tr>\n",
              "    <tr>\n",
              "      <th>2</th>\n",
              "      <td>RCB</td>\n",
              "      <td>85.779817</td>\n",
              "      <td>29.357798</td>\n",
              "      <td>1.406452</td>\n",
              "      <td>39.342231</td>\n",
              "    </tr>\n",
              "    <tr>\n",
              "      <th>3</th>\n",
              "      <td>IPL</td>\n",
              "      <td>62.807018</td>\n",
              "      <td>34.210526</td>\n",
              "      <td>1.496063</td>\n",
              "      <td>41.987291</td>\n",
              "    </tr>\n",
              "    <tr>\n",
              "      <th>4</th>\n",
              "      <td>ViratKohli</td>\n",
              "      <td>91.205212</td>\n",
              "      <td>37.785016</td>\n",
              "      <td>1.273859</td>\n",
              "      <td>48.179396</td>\n",
              "    </tr>\n",
              "    <tr>\n",
              "      <th>5</th>\n",
              "      <td>WeAreChallengers</td>\n",
              "      <td>96.808511</td>\n",
              "      <td>71.276596</td>\n",
              "      <td>1.220779</td>\n",
              "      <td>82.178226</td>\n",
              "    </tr>\n",
              "    <tr>\n",
              "      <th>6</th>\n",
              "      <td>DareToDream</td>\n",
              "      <td>100.000000</td>\n",
              "      <td>89.189189</td>\n",
              "      <td>1.275862</td>\n",
              "      <td>100.465051</td>\n",
              "    </tr>\n",
              "    <tr>\n",
              "      <th>7</th>\n",
              "      <td>RR</td>\n",
              "      <td>84.012539</td>\n",
              "      <td>48.275862</td>\n",
              "      <td>1.483721</td>\n",
              "      <td>58.160837</td>\n",
              "    </tr>\n",
              "    <tr>\n",
              "      <th>8</th>\n",
              "      <td>WhistlePodu</td>\n",
              "      <td>92.727273</td>\n",
              "      <td>100.000000</td>\n",
              "      <td>2.115385</td>\n",
              "      <td>111.388112</td>\n",
              "    </tr>\n",
              "    <tr>\n",
              "      <th>9</th>\n",
              "      <td>Yellove</td>\n",
              "      <td>100.000000</td>\n",
              "      <td>100.000000</td>\n",
              "      <td>2.500000</td>\n",
              "      <td>112.500000</td>\n",
              "    </tr>\n",
              "  </tbody>\n",
              "</table>\n",
              "</div>"
            ],
            "text/plain": [
              "            HashTag           R           F         U         CTM\n",
              "0           RCBvsRR   92.484076   19.490446  1.256000   29.994854\n",
              "1           IPL2021   40.897353   21.755972  2.249818   28.095525\n",
              "2               RCB   85.779817   29.357798  1.406452   39.342231\n",
              "3               IPL   62.807018   34.210526  1.496063   41.987291\n",
              "4        ViratKohli   91.205212   37.785016  1.273859   48.179396\n",
              "5  WeAreChallengers   96.808511   71.276596  1.220779   82.178226\n",
              "6       DareToDream  100.000000   89.189189  1.275862  100.465051\n",
              "7                RR   84.012539   48.275862  1.483721   58.160837\n",
              "8       WhistlePodu   92.727273  100.000000  2.115385  111.388112\n",
              "9           Yellove  100.000000  100.000000  2.500000  112.500000"
            ]
          },
          "metadata": {
            "tags": []
          },
          "execution_count": 13
        }
      ]
    }
  ]
}